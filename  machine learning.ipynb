{
 "cells": [
  {
   "cell_type": "code",
   "execution_count": 1,
   "id": "6c68dfc4",
   "metadata": {},
   "outputs": [],
   "source": [
    "import numpy as np\n",
    "import pandas as pd\n",
    "import matplotlib.pyplot as plt\n",
    "from sklearn import linear_model\n",
    "\n"
   ]
  },
  {
   "cell_type": "code",
   "execution_count": 2,
   "id": "a8565740",
   "metadata": {},
   "outputs": [
    {
     "data": {
      "text/html": [
       "<div>\n",
       "<style scoped>\n",
       "    .dataframe tbody tr th:only-of-type {\n",
       "        vertical-align: middle;\n",
       "    }\n",
       "\n",
       "    .dataframe tbody tr th {\n",
       "        vertical-align: top;\n",
       "    }\n",
       "\n",
       "    .dataframe thead th {\n",
       "        text-align: right;\n",
       "    }\n",
       "</style>\n",
       "<table border=\"1\" class=\"dataframe\">\n",
       "  <thead>\n",
       "    <tr style=\"text-align: right;\">\n",
       "      <th></th>\n",
       "      <th>area</th>\n",
       "      <th>price</th>\n",
       "    </tr>\n",
       "  </thead>\n",
       "  <tbody>\n",
       "    <tr>\n",
       "      <th>0</th>\n",
       "      <td>2600</td>\n",
       "      <td>550000</td>\n",
       "    </tr>\n",
       "    <tr>\n",
       "      <th>1</th>\n",
       "      <td>3000</td>\n",
       "      <td>565000</td>\n",
       "    </tr>\n",
       "    <tr>\n",
       "      <th>2</th>\n",
       "      <td>3200</td>\n",
       "      <td>610000</td>\n",
       "    </tr>\n",
       "    <tr>\n",
       "      <th>3</th>\n",
       "      <td>3600</td>\n",
       "      <td>680000</td>\n",
       "    </tr>\n",
       "    <tr>\n",
       "      <th>4</th>\n",
       "      <td>4000</td>\n",
       "      <td>725000</td>\n",
       "    </tr>\n",
       "  </tbody>\n",
       "</table>\n",
       "</div>"
      ],
      "text/plain": [
       "   area   price\n",
       "0  2600  550000\n",
       "1  3000  565000\n",
       "2  3200  610000\n",
       "3  3600  680000\n",
       "4  4000  725000"
      ]
     },
     "execution_count": 2,
     "metadata": {},
     "output_type": "execute_result"
    }
   ],
   "source": [
    "df=pd.read_csv('homeprices.csv')\n",
    "df"
   ]
  },
  {
   "cell_type": "code",
   "execution_count": 3,
   "id": "bd4d2980",
   "metadata": {},
   "outputs": [
    {
     "data": {
      "text/plain": [
       "<matplotlib.collections.PathCollection at 0x1d9b1b34490>"
      ]
     },
     "execution_count": 3,
     "metadata": {},
     "output_type": "execute_result"
    },
    {
     "data": {
      "image/png": "[encoded data removed]",
      "text/plain": [
       "<Figure size 432x288 with 1 Axes>"
      ]
     },
     "metadata": {
      "needs_background": "light"
     },
     "output_type": "display_data"
    }
   ],
   "source": [
    "plt.xlabel('area')\n",
    "plt.ylabel('price of house')\n",
    "plt.scatter(df.area,df.price,) # WE TAKE IT AS LINEAR REGRESSION AND TRAIBN THE MODEL"
   ]
  },
  {
   "cell_type": "code",
   "execution_count": 4,
   "id": "ee5a72cd",
   "metadata": {},
   "outputs": [],
   "source": [
    "reg=linear_model.LinearRegression()"
   ]
  },
  {
   "cell_type": "code",
   "execution_count": 5,
   "id": "5f4d9176",
   "metadata": {},
   "outputs": [
    {
     "data": {
      "text/plain": [
       "LinearRegression()"
      ]
     },
     "execution_count": 5,
     "metadata": {},
     "output_type": "execute_result"
    }
   ],
   "source": [
    "reg.fit(df[{'area'}],df.price)"
   ]
  },
  {
   "cell_type": "code",
   "execution_count": 6,
   "id": "35ad91de",
   "metadata": {},
   "outputs": [
    {
     "data": {
      "text/plain": [
       "array([628715.75342466])"
      ]
     },
     "execution_count": 6,
     "metadata": {},
     "output_type": "execute_result"
    }
   ],
   "source": [
    "reg.predict([[3300]])"
   ]
  },
  {
   "cell_type": "code",
   "execution_count": 7,
   "id": "7cffc64d",
   "metadata": {},
   "outputs": [
    {
     "data": {
      "text/plain": [
       "array([135.78767123])"
      ]
     },
     "execution_count": 7,
     "metadata": {},
     "output_type": "execute_result"
    }
   ],
   "source": [
    "reg.coef_  # IN Y=MX+C M=COEF"
   ]
  },
  {
   "cell_type": "code",
   "execution_count": 8,
   "id": "ddc5a913",
   "metadata": {},
   "outputs": [
    {
     "data": {
      "text/plain": [
       "180616.43835616432"
      ]
     },
     "execution_count": 8,
     "metadata": {},
     "output_type": "execute_result"
    }
   ],
   "source": [
    "reg.intercept_  #C= INTERCEPT"
   ]
  },
  {
   "cell_type": "code",
   "execution_count": 9,
   "id": "da4949b4",
   "metadata": {},
   "outputs": [],
   "source": [
    "# machine learning model predict m and c"
   ]
  },
  {
   "cell_type": "code",
   "execution_count": 10,
   "id": "407aa465",
   "metadata": {},
   "outputs": [
    {
     "data": {
      "text/plain": [
       "628715.7534151643"
      ]
     },
     "execution_count": 10,
     "metadata": {},
     "output_type": "execute_result"
    }
   ],
   "source": [
    "135.78767123*3300+180616.43835616432 "
   ]
  },
  {
   "cell_type": "code",
   "execution_count": 11,
   "id": "de7ee3a2",
   "metadata": {},
   "outputs": [],
   "source": [
    "# SO, IN ABOVE WE GOT THE SAME VALUE"
   ]
  },
  {
   "cell_type": "code",
   "execution_count": 12,
   "id": "b0a7e1fe",
   "metadata": {},
   "outputs": [
    {
     "data": {
      "text/plain": [
       "0    550000\n",
       "1    565000\n",
       "2    610000\n",
       "3    680000\n",
       "4    725000\n",
       "Name: price, dtype: int64"
      ]
     },
     "execution_count": 12,
     "metadata": {},
     "output_type": "execute_result"
    }
   ],
   "source": [
    "# IF WE WANT TO TEST SOME MORE\n",
    "d=df.price\n",
    "d "
   ]
  },
  {
   "cell_type": "code",
   "execution_count": 13,
   "id": "e9a58617",
   "metadata": {},
   "outputs": [
    {
     "data": {
      "text/html": [
       "<div>\n",
       "<style scoped>\n",
       "    .dataframe tbody tr th:only-of-type {\n",
       "        vertical-align: middle;\n",
       "    }\n",
       "\n",
       "    .dataframe tbody tr th {\n",
       "        vertical-align: top;\n",
       "    }\n",
       "\n",
       "    .dataframe thead th {\n",
       "        text-align: right;\n",
       "    }\n",
       "</style>\n",
       "<table border=\"1\" class=\"dataframe\">\n",
       "  <thead>\n",
       "    <tr style=\"text-align: right;\">\n",
       "      <th></th>\n",
       "      <th>area</th>\n",
       "    </tr>\n",
       "  </thead>\n",
       "  <tbody>\n",
       "    <tr>\n",
       "      <th>0</th>\n",
       "      <td>1000</td>\n",
       "    </tr>\n",
       "    <tr>\n",
       "      <th>1</th>\n",
       "      <td>2000</td>\n",
       "    </tr>\n",
       "    <tr>\n",
       "      <th>2</th>\n",
       "      <td>3000</td>\n",
       "    </tr>\n",
       "    <tr>\n",
       "      <th>3</th>\n",
       "      <td>4000</td>\n",
       "    </tr>\n",
       "    <tr>\n",
       "      <th>4</th>\n",
       "      <td>5000</td>\n",
       "    </tr>\n",
       "  </tbody>\n",
       "</table>\n",
       "</div>"
      ],
      "text/plain": [
       "   area\n",
       "0  1000\n",
       "1  2000\n",
       "2  3000\n",
       "3  4000\n",
       "4  5000"
      ]
     },
     "execution_count": 13,
     "metadata": {},
     "output_type": "execute_result"
    }
   ],
   "source": [
    "lst=[1000,2000,3000,4000,5000]\n",
    "d=pd.DataFrame(lst,columns=['area'])\n",
    "d"
   ]
  },
  {
   "cell_type": "code",
   "execution_count": 14,
   "id": "474acb70",
   "metadata": {},
   "outputs": [],
   "source": [
    "k=reg.predict(d) # WE CAN GIVE INPUT VALUES AS DATAFRAME"
   ]
  },
  {
   "cell_type": "code",
   "execution_count": 15,
   "id": "e3fddfab",
   "metadata": {},
   "outputs": [
    {
     "data": {
      "text/plain": [
       "array([316404.10958904, 452191.78082192, 587979.45205479, 723767.12328767,\n",
       "       859554.79452055])"
      ]
     },
     "execution_count": 15,
     "metadata": {},
     "output_type": "execute_result"
    }
   ],
   "source": [
    "k"
   ]
  },
  {
   "cell_type": "code",
   "execution_count": 16,
   "id": "7f3b1e5f",
   "metadata": {},
   "outputs": [
    {
     "ename": "SyntaxError",
     "evalue": "invalid syntax (<ipython-input-16-300660840f59>, line 1)",
     "output_type": "error",
     "traceback": [
      "\u001b[1;36m  File \u001b[1;32m\"<ipython-input-16-300660840f59>\"\u001b[1;36m, line \u001b[1;32m1\u001b[0m\n\u001b[1;33m    plt.plot(k,lst) it TAKES LINEAR REGREESSION\u001b[0m\n\u001b[1;37m                    ^\u001b[0m\n\u001b[1;31mSyntaxError\u001b[0m\u001b[1;31m:\u001b[0m invalid syntax\n"
     ]
    }
   ],
   "source": [
    "plt.plot(k,lst) it TAKES LINEAR REGREESSION"
   ]
  },
  {
   "cell_type": "code",
   "execution_count": null,
   "id": "fbfbb568",
   "metadata": {},
   "outputs": [],
   "source": [
    "a=pd.DataFrame(k,columns=['price'])\n",
    "a"
   ]
  },
  {
   "cell_type": "markdown",
   "id": "bd17caf6",
   "metadata": {},
   "source": [
    "# DUMMY VARIABLES AND ONE HOT ENCODING"
   ]
  },
  {
   "cell_type": "code",
   "execution_count": null,
   "id": "9344bff9",
   "metadata": {},
   "outputs": [],
   "source": []
  },
  {
   "cell_type": "code",
   "execution_count": null,
   "id": "69493448",
   "metadata": {},
   "outputs": [],
   "source": [
    "df=pd.read_csv('homeprice')\n",
    "df"
   ]
  },
  {
   "cell_type": "code",
   "execution_count": null,
   "id": "4f4e34a1",
   "metadata": {},
   "outputs": [],
   "source": [
    "d=pd.get_dummies(df)\n",
    "d"
   ]
  },
  {
   "cell_type": "code",
   "execution_count": null,
   "id": "3c9e9854",
   "metadata": {},
   "outputs": [],
   "source": [
    "d.drop(columns='town_monroe township',inplace=True)\n",
    "d\n"
   ]
  },
  {
   "cell_type": "code",
   "execution_count": null,
   "id": "83d5010a",
   "metadata": {},
   "outputs": [],
   "source": [
    "x=d.drop(columns='price')\n",
    "x\n"
   ]
  },
  {
   "cell_type": "code",
   "execution_count": null,
   "id": "6d6018af",
   "metadata": {},
   "outputs": [],
   "source": [
    "y=d.price"
   ]
  },
  {
   "cell_type": "code",
   "execution_count": null,
   "id": "80ebdcdc",
   "metadata": {},
   "outputs": [],
   "source": [
    "from sklearn.linear_model import LinearRegression"
   ]
  },
  {
   "cell_type": "code",
   "execution_count": null,
   "id": "2fa431b6",
   "metadata": {},
   "outputs": [],
   "source": [
    "model=LinearRegression()"
   ]
  },
  {
   "cell_type": "code",
   "execution_count": null,
   "id": "fa095303",
   "metadata": {},
   "outputs": [],
   "source": [
    "model.fit(x,y)"
   ]
  },
  {
   "cell_type": "code",
   "execution_count": null,
   "id": "057e0c7e",
   "metadata": {},
   "outputs": [],
   "source": [
    "model.predict(x)"
   ]
  },
  {
   "cell_type": "code",
   "execution_count": null,
   "id": "0165b3ef",
   "metadata": {},
   "outputs": [],
   "source": [
    "model.score(x,y) # MODEL.SCORE USED TO FIND ACCURACY"
   ]
  },
  {
   "cell_type": "code",
   "execution_count": null,
   "id": "84546bb9",
   "metadata": {},
   "outputs": [],
   "source": [
    "model.predict([[3400,1,0]])"
   ]
  },
  {
   "cell_type": "code",
   "execution_count": null,
   "id": "dc02e9e7",
   "metadata": {},
   "outputs": [],
   "source": [
    "model.predict([[2800,0,0]])"
   ]
  },
  {
   "cell_type": "markdown",
   "id": "dbaa4ac2",
   "metadata": {},
   "source": [
    "# Using sklearn OneHotEncoder\n",
    "\n",
    "First step is to use label encoder to convert town names into numbers\n"
   ]
  },
  {
   "cell_type": "code",
   "execution_count": null,
   "id": "bd990956",
   "metadata": {},
   "outputs": [],
   "source": [
    "from sklearn.preprocessing import LabelEncoder\n",
    "le=LabelEncoder()"
   ]
  },
  {
   "cell_type": "code",
   "execution_count": null,
   "id": "30e65932",
   "metadata": {},
   "outputs": [],
   "source": [
    "df=pd.read_csv('homeprice')\n",
    "df.head()"
   ]
  },
  {
   "cell_type": "code",
   "execution_count": null,
   "id": "144440da",
   "metadata": {},
   "outputs": [],
   "source": [
    "df['town']=le.fit_transform(df.town)"
   ]
  },
  {
   "cell_type": "code",
   "execution_count": null,
   "id": "4c3fa372",
   "metadata": {},
   "outputs": [],
   "source": [
    "df"
   ]
  },
  {
   "cell_type": "code",
   "execution_count": null,
   "id": "fc21d109",
   "metadata": {},
   "outputs": [],
   "source": [
    "x=df.drop(columns='price').values"
   ]
  },
  {
   "cell_type": "code",
   "execution_count": null,
   "id": "3e0d9670",
   "metadata": {},
   "outputs": [],
   "source": [
    "y=df.price.values\n"
   ]
  },
  {
   "cell_type": "markdown",
   "id": "16a572dc",
   "metadata": {},
   "source": [
    "Now use one hot encoder to create dummy variables for each of the town"
   ]
  },
  {
   "cell_type": "markdown",
   "id": "2c971b59",
   "metadata": {},
   "source": [
    "# NEW ONE(ANOTHER EXAMPLE)"
   ]
  },
  {
   "cell_type": "code",
   "execution_count": null,
   "id": "951bce89",
   "metadata": {},
   "outputs": [],
   "source": [
    "df=pd.read_csv('carprices.csv')\n",
    "df"
   ]
  },
  {
   "cell_type": "code",
   "execution_count": null,
   "id": "27cfd2fb",
   "metadata": {},
   "outputs": [],
   "source": [
    "dummy=pd.get_dummies(df)\n",
    "dummy"
   ]
  },
  {
   "cell_type": "code",
   "execution_count": null,
   "id": "25157a57",
   "metadata": {},
   "outputs": [],
   "source": [
    "y=dummy['Sell Price($)']\n",
    "y.head()"
   ]
  },
  {
   "cell_type": "code",
   "execution_count": null,
   "id": "d4d52051",
   "metadata": {},
   "outputs": [],
   "source": [
    "dummy.drop(columns=['Sell Price($)','Car Model_Audi A5'],inplace=True)"
   ]
  },
  {
   "cell_type": "code",
   "execution_count": null,
   "id": "2fa988a3",
   "metadata": {},
   "outputs": [],
   "source": [
    "dummy.head()"
   ]
  },
  {
   "cell_type": "code",
   "execution_count": null,
   "id": "41885844",
   "metadata": {},
   "outputs": [],
   "source": [
    "x=dummy\n",
    "x"
   ]
  },
  {
   "cell_type": "code",
   "execution_count": null,
   "id": "63296702",
   "metadata": {},
   "outputs": [],
   "source": [
    "y"
   ]
  },
  {
   "cell_type": "code",
   "execution_count": null,
   "id": "5e1a222e",
   "metadata": {},
   "outputs": [],
   "source": [
    "from sklearn.linear_model import LinearRegression\n",
    "model=LinearRegression()"
   ]
  },
  {
   "cell_type": "code",
   "execution_count": null,
   "id": "fccc431e",
   "metadata": {},
   "outputs": [],
   "source": [
    "model.fit(x,y)"
   ]
  },
  {
   "cell_type": "markdown",
   "id": "6a5b1adc",
   "metadata": {},
   "source": [
    "\n",
    "\n",
    "Price of mercedez benz that is 4 yr old with mileage 45000\n"
   ]
  },
  {
   "cell_type": "code",
   "execution_count": null,
   "id": "fe30bd7a",
   "metadata": {},
   "outputs": [],
   "source": [
    "model.predict([[45000,4,0,1]])"
   ]
  },
  {
   "cell_type": "code",
   "execution_count": null,
   "id": "334d4cdd",
   "metadata": {},
   "outputs": [],
   "source": [
    "model.score(x,y)"
   ]
  },
  {
   "cell_type": "markdown",
   "id": "ae067101",
   "metadata": {},
   "source": [
    "Price of BMW X5 that is 7 yr old with mileage 86000"
   ]
  },
  {
   "cell_type": "code",
   "execution_count": null,
   "id": "c4c5698e",
   "metadata": {},
   "outputs": [],
   "source": [
    "model.predict([[86000,7,1,0]])"
   ]
  },
  {
   "cell_type": "code",
   "execution_count": null,
   "id": "dee0992e",
   "metadata": {},
   "outputs": [],
   "source": [
    "from sklearn.preprocessing import LabelEncoder\n",
    "le=LabelEncoder()"
   ]
  },
  {
   "cell_type": "code",
   "execution_count": null,
   "id": "206406a5",
   "metadata": {},
   "outputs": [],
   "source": [
    "df.head()"
   ]
  },
  {
   "cell_type": "code",
   "execution_count": null,
   "id": "aba03d07",
   "metadata": {},
   "outputs": [],
   "source": [
    "dfle=df\n",
    "le.fit_transform(dfle['Car Model'])"
   ]
  },
  {
   "cell_type": "code",
   "execution_count": null,
   "id": "a329f8b4",
   "metadata": {},
   "outputs": [],
   "source": [
    "dfle['Car Model']=le.fit_transform(dfle['Car Model'])\n",
    "dfle.head()"
   ]
  },
  {
   "cell_type": "code",
   "execution_count": null,
   "id": "8d4d752d",
   "metadata": {},
   "outputs": [],
   "source": [
    "x=dfle[['Car Model','Mileage','Age(yrs)']].values\n",
    "x"
   ]
  },
  {
   "cell_type": "code",
   "execution_count": null,
   "id": "b68031c7",
   "metadata": {},
   "outputs": [],
   "source": [
    "y=dfle['Sell Price($)']\n",
    "y"
   ]
  },
  {
   "cell_type": "code",
   "execution_count": null,
   "id": "cc90906c",
   "metadata": {},
   "outputs": [],
   "source": [
    "from sklearn.preprocessing import OneHotEncoder\n",
    "from sklearn.compose import ColumnTransformer\n",
    "ct = ColumnTransformer([('Car Model', OneHotEncoder(), [0])], remainder = 'passthrough')"
   ]
  },
  {
   "cell_type": "code",
   "execution_count": null,
   "id": "075baecc",
   "metadata": {},
   "outputs": [],
   "source": [
    "X = ct.fit_transform(x)\n",
    "X"
   ]
  },
  {
   "cell_type": "code",
   "execution_count": null,
   "id": "eaba63fc",
   "metadata": {},
   "outputs": [],
   "source": [
    "X=X[:,1:]\n",
    "X"
   ]
  },
  {
   "cell_type": "code",
   "execution_count": null,
   "id": "d13c826e",
   "metadata": {},
   "outputs": [],
   "source": [
    "model.fit(X,y)"
   ]
  },
  {
   "cell_type": "markdown",
   "id": "34a4538d",
   "metadata": {},
   "source": [
    "Price of mercedez benz that is 4 yr old with mileage 45000"
   ]
  },
  {
   "cell_type": "code",
   "execution_count": null,
   "id": "06af17ac",
   "metadata": {},
   "outputs": [],
   "source": [
    "model.predict([[0,1,45000,4]]) # WE GOT THE SAME "
   ]
  },
  {
   "cell_type": "code",
   "execution_count": null,
   "id": "39be874e",
   "metadata": {},
   "outputs": [],
   "source": [
    "model.score(X,y)"
   ]
  },
  {
   "cell_type": "code",
   "execution_count": null,
   "id": "29393e1d",
   "metadata": {},
   "outputs": [],
   "source": []
  }
 ],
 "metadata": {
  "kernelspec": {
   "display_name": "Python 3",
   "language": "python",
   "name": "python3"
  },
  "language_info": {
   "codemirror_mode": {
    "name": "ipython",
    "version": 3
   },
   "file_extension": ".py",
   "mimetype": "text/x-python",
   "name": "python",
   "nbconvert_exporter": "python",
   "pygments_lexer": "ipython3",
   "version": "3.8.8"
  }
 },
 "nbformat": 4,
 "nbformat_minor": 5
}
